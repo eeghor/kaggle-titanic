{
 "cells": [
  {
   "cell_type": "markdown",
   "metadata": {},
   "source": [
    "# Titanic with Pandas and Scikit-Learn"
   ]
  },
  {
   "cell_type": "markdown",
   "metadata": {},
   "source": [
    "* **Survived**: Survival (0 = no; 1 = yes)\n",
    "* **Pclass**: Passenger class (1 = first; 2 = second; 3 = third) ---- *categorical variable*\n",
    "* **Name**\n",
    "* **Sex** ---- *categorical variable*\n",
    "* **Age**\n",
    "* **SibSp**: Number of siblings aboard\n",
    "* **Parch**: Number of parents/children aboard\n",
    "* **Ticket**: Ticket number\n",
    "* **Fare**: Passenger fare\n",
    "* **Cabin**\n",
    "* **Embarked**: Port of embarkation (C = Cherbourg; Q = Queenstown; S = Southampton) ---- *categorical variable*"
   ]
  },
  {
   "cell_type": "markdown",
   "metadata": {},
   "source": [
    "## Data Exploration"
   ]
  },
  {
   "cell_type": "markdown",
   "metadata": {},
   "source": [
    "First, import some useful modules"
   ]
  },
  {
   "cell_type": "code",
   "execution_count": 41,
   "metadata": {
    "collapsed": false
   },
   "outputs": [],
   "source": [
    "%matplotlib notebook\n",
    "import pandas as pd\n",
    "import matplotlib.pyplot as plt\n",
    "import seaborn as sns  # use seaborn, see https://stanford.edu/~mwaskom/software/seaborn/\n",
    "from sklearn.model_selection import train_test_split\n",
    "from sklearn.linear_model import LogisticRegression, LinearRegression\n",
    "from sklearn.metrics import accuracy_score\n",
    "from sklearn import tree\n",
    "from sklearn.naive_bayes import GaussianNB\n",
    "from sklearn.ensemble import RandomForestClassifier\n",
    "from sklearn.ensemble import ExtraTreesClassifier\n",
    "from sklearn.preprocessing import OneHotEncoder\n",
    "from sklearn.model_selection import cross_val_score\n",
    "import numpy as np\n",
    "from sklearn.ensemble import AdaBoostClassifier\n",
    "from sklearn.model_selection import GridSearchCV\n",
    "from sklearn.preprocessing import LabelEncoder\n",
    "\n",
    "from collections import Counter"
   ]
  },
  {
   "cell_type": "markdown",
   "metadata": {},
   "source": [
    "Load the training data set into a pandas data frame and see how many records are there and what is in the data"
   ]
  },
  {
   "cell_type": "code",
   "execution_count": 58,
   "metadata": {
    "collapsed": false
   },
   "outputs": [
    {
     "data": {
      "text/html": [
       "<div>\n",
       "<table border=\"1\" class=\"dataframe\">\n",
       "  <thead>\n",
       "    <tr style=\"text-align: right;\">\n",
       "      <th></th>\n",
       "      <th>PassengerId</th>\n",
       "      <th>Survived</th>\n",
       "      <th>Pclass</th>\n",
       "      <th>Name</th>\n",
       "      <th>Sex</th>\n",
       "      <th>Age</th>\n",
       "      <th>SibSp</th>\n",
       "      <th>Parch</th>\n",
       "      <th>Ticket</th>\n",
       "      <th>Fare</th>\n",
       "      <th>Cabin</th>\n",
       "      <th>Embarked</th>\n",
       "    </tr>\n",
       "  </thead>\n",
       "  <tbody>\n",
       "    <tr>\n",
       "      <th>0</th>\n",
       "      <td>1</td>\n",
       "      <td>0</td>\n",
       "      <td>3</td>\n",
       "      <td>Braund, Mr. Owen Harris</td>\n",
       "      <td>male</td>\n",
       "      <td>22.0</td>\n",
       "      <td>1</td>\n",
       "      <td>0</td>\n",
       "      <td>A/5 21171</td>\n",
       "      <td>7.2500</td>\n",
       "      <td>NaN</td>\n",
       "      <td>S</td>\n",
       "    </tr>\n",
       "    <tr>\n",
       "      <th>1</th>\n",
       "      <td>2</td>\n",
       "      <td>1</td>\n",
       "      <td>1</td>\n",
       "      <td>Cumings, Mrs. John Bradley (Florence Briggs Th...</td>\n",
       "      <td>female</td>\n",
       "      <td>38.0</td>\n",
       "      <td>1</td>\n",
       "      <td>0</td>\n",
       "      <td>PC 17599</td>\n",
       "      <td>71.2833</td>\n",
       "      <td>C85</td>\n",
       "      <td>C</td>\n",
       "    </tr>\n",
       "    <tr>\n",
       "      <th>2</th>\n",
       "      <td>3</td>\n",
       "      <td>1</td>\n",
       "      <td>3</td>\n",
       "      <td>Heikkinen, Miss. Laina</td>\n",
       "      <td>female</td>\n",
       "      <td>26.0</td>\n",
       "      <td>0</td>\n",
       "      <td>0</td>\n",
       "      <td>STON/O2. 3101282</td>\n",
       "      <td>7.9250</td>\n",
       "      <td>NaN</td>\n",
       "      <td>S</td>\n",
       "    </tr>\n",
       "    <tr>\n",
       "      <th>3</th>\n",
       "      <td>4</td>\n",
       "      <td>1</td>\n",
       "      <td>1</td>\n",
       "      <td>Futrelle, Mrs. Jacques Heath (Lily May Peel)</td>\n",
       "      <td>female</td>\n",
       "      <td>35.0</td>\n",
       "      <td>1</td>\n",
       "      <td>0</td>\n",
       "      <td>113803</td>\n",
       "      <td>53.1000</td>\n",
       "      <td>C123</td>\n",
       "      <td>S</td>\n",
       "    </tr>\n",
       "    <tr>\n",
       "      <th>4</th>\n",
       "      <td>5</td>\n",
       "      <td>0</td>\n",
       "      <td>3</td>\n",
       "      <td>Allen, Mr. William Henry</td>\n",
       "      <td>male</td>\n",
       "      <td>35.0</td>\n",
       "      <td>0</td>\n",
       "      <td>0</td>\n",
       "      <td>373450</td>\n",
       "      <td>8.0500</td>\n",
       "      <td>NaN</td>\n",
       "      <td>S</td>\n",
       "    </tr>\n",
       "  </tbody>\n",
       "</table>\n",
       "</div>"
      ],
      "text/plain": [
       "   PassengerId  Survived  Pclass  \\\n",
       "0            1         0       3   \n",
       "1            2         1       1   \n",
       "2            3         1       3   \n",
       "3            4         1       1   \n",
       "4            5         0       3   \n",
       "\n",
       "                                                Name     Sex   Age  SibSp  \\\n",
       "0                            Braund, Mr. Owen Harris    male  22.0      1   \n",
       "1  Cumings, Mrs. John Bradley (Florence Briggs Th...  female  38.0      1   \n",
       "2                             Heikkinen, Miss. Laina  female  26.0      0   \n",
       "3       Futrelle, Mrs. Jacques Heath (Lily May Peel)  female  35.0      1   \n",
       "4                           Allen, Mr. William Henry    male  35.0      0   \n",
       "\n",
       "   Parch            Ticket     Fare Cabin Embarked  \n",
       "0      0         A/5 21171   7.2500   NaN        S  \n",
       "1      0          PC 17599  71.2833   C85        C  \n",
       "2      0  STON/O2. 3101282   7.9250   NaN        S  \n",
       "3      0            113803  53.1000  C123        S  \n",
       "4      0            373450   8.0500   NaN        S  "
      ]
     },
     "execution_count": 58,
     "metadata": {},
     "output_type": "execute_result"
    }
   ],
   "source": [
    "training_df = pd.read_csv(\"train.csv\")\n",
    "training_df.head()"
   ]
  },
  {
   "cell_type": "code",
   "execution_count": 59,
   "metadata": {
    "collapsed": false
   },
   "outputs": [
    {
     "data": {
      "text/html": [
       "<div>\n",
       "<table border=\"1\" class=\"dataframe\">\n",
       "  <thead>\n",
       "    <tr style=\"text-align: right;\">\n",
       "      <th></th>\n",
       "      <th>PassengerId</th>\n",
       "      <th>Pclass</th>\n",
       "      <th>Name</th>\n",
       "      <th>Sex</th>\n",
       "      <th>Age</th>\n",
       "      <th>SibSp</th>\n",
       "      <th>Parch</th>\n",
       "      <th>Ticket</th>\n",
       "      <th>Fare</th>\n",
       "      <th>Cabin</th>\n",
       "      <th>Embarked</th>\n",
       "    </tr>\n",
       "  </thead>\n",
       "  <tbody>\n",
       "    <tr>\n",
       "      <th>0</th>\n",
       "      <td>892</td>\n",
       "      <td>3</td>\n",
       "      <td>Kelly, Mr. James</td>\n",
       "      <td>male</td>\n",
       "      <td>34.5</td>\n",
       "      <td>0</td>\n",
       "      <td>0</td>\n",
       "      <td>330911</td>\n",
       "      <td>7.8292</td>\n",
       "      <td>NaN</td>\n",
       "      <td>Q</td>\n",
       "    </tr>\n",
       "    <tr>\n",
       "      <th>1</th>\n",
       "      <td>893</td>\n",
       "      <td>3</td>\n",
       "      <td>Wilkes, Mrs. James (Ellen Needs)</td>\n",
       "      <td>female</td>\n",
       "      <td>47.0</td>\n",
       "      <td>1</td>\n",
       "      <td>0</td>\n",
       "      <td>363272</td>\n",
       "      <td>7.0000</td>\n",
       "      <td>NaN</td>\n",
       "      <td>S</td>\n",
       "    </tr>\n",
       "    <tr>\n",
       "      <th>2</th>\n",
       "      <td>894</td>\n",
       "      <td>2</td>\n",
       "      <td>Myles, Mr. Thomas Francis</td>\n",
       "      <td>male</td>\n",
       "      <td>62.0</td>\n",
       "      <td>0</td>\n",
       "      <td>0</td>\n",
       "      <td>240276</td>\n",
       "      <td>9.6875</td>\n",
       "      <td>NaN</td>\n",
       "      <td>Q</td>\n",
       "    </tr>\n",
       "    <tr>\n",
       "      <th>3</th>\n",
       "      <td>895</td>\n",
       "      <td>3</td>\n",
       "      <td>Wirz, Mr. Albert</td>\n",
       "      <td>male</td>\n",
       "      <td>27.0</td>\n",
       "      <td>0</td>\n",
       "      <td>0</td>\n",
       "      <td>315154</td>\n",
       "      <td>8.6625</td>\n",
       "      <td>NaN</td>\n",
       "      <td>S</td>\n",
       "    </tr>\n",
       "    <tr>\n",
       "      <th>4</th>\n",
       "      <td>896</td>\n",
       "      <td>3</td>\n",
       "      <td>Hirvonen, Mrs. Alexander (Helga E Lindqvist)</td>\n",
       "      <td>female</td>\n",
       "      <td>22.0</td>\n",
       "      <td>1</td>\n",
       "      <td>1</td>\n",
       "      <td>3101298</td>\n",
       "      <td>12.2875</td>\n",
       "      <td>NaN</td>\n",
       "      <td>S</td>\n",
       "    </tr>\n",
       "  </tbody>\n",
       "</table>\n",
       "</div>"
      ],
      "text/plain": [
       "   PassengerId  Pclass                                          Name     Sex  \\\n",
       "0          892       3                              Kelly, Mr. James    male   \n",
       "1          893       3              Wilkes, Mrs. James (Ellen Needs)  female   \n",
       "2          894       2                     Myles, Mr. Thomas Francis    male   \n",
       "3          895       3                              Wirz, Mr. Albert    male   \n",
       "4          896       3  Hirvonen, Mrs. Alexander (Helga E Lindqvist)  female   \n",
       "\n",
       "    Age  SibSp  Parch   Ticket     Fare Cabin Embarked  \n",
       "0  34.5      0      0   330911   7.8292   NaN        Q  \n",
       "1  47.0      1      0   363272   7.0000   NaN        S  \n",
       "2  62.0      0      0   240276   9.6875   NaN        Q  \n",
       "3  27.0      0      0   315154   8.6625   NaN        S  \n",
       "4  22.0      1      1  3101298  12.2875   NaN        S  "
      ]
     },
     "execution_count": 59,
     "metadata": {},
     "output_type": "execute_result"
    }
   ],
   "source": [
    "testing_df = pd.read_csv(\"test.csv\")\n",
    "testing_df.head()"
   ]
  },
  {
   "cell_type": "markdown",
   "metadata": {},
   "source": [
    "## Missing Values in the Training Dataset"
   ]
  },
  {
   "cell_type": "code",
   "execution_count": 60,
   "metadata": {
    "collapsed": false
   },
   "outputs": [
    {
     "name": "stdout",
     "output_type": "stream",
     "text": [
      "there are 891 rows in training database\n"
     ]
    },
    {
     "data": {
      "text/plain": [
       "PassengerId      0\n",
       "Survived         0\n",
       "Pclass           0\n",
       "Name             0\n",
       "Sex              0\n",
       "Age           -177\n",
       "SibSp            0\n",
       "Parch            0\n",
       "Ticket           0\n",
       "Fare             0\n",
       "Cabin         -687\n",
       "Embarked        -2\n",
       "dtype: int64"
      ]
     },
     "execution_count": 60,
     "metadata": {},
     "output_type": "execute_result"
    }
   ],
   "source": [
    "nrows = len(training_df.index)\n",
    "print(\"there are {} rows in training database\".format(nrows))\n",
    "training_df.count()-nrows  # this returns the number of missing observations in each column"
   ]
  },
  {
   "cell_type": "code",
   "execution_count": 61,
   "metadata": {
    "collapsed": false
   },
   "outputs": [
    {
     "name": "stdout",
     "output_type": "stream",
     "text": [
      "there are 418 rows in testing database\n"
     ]
    },
    {
     "data": {
      "text/plain": [
       "PassengerId      0\n",
       "Pclass           0\n",
       "Name             0\n",
       "Sex              0\n",
       "Age            -86\n",
       "SibSp            0\n",
       "Parch            0\n",
       "Ticket           0\n",
       "Fare            -1\n",
       "Cabin         -327\n",
       "Embarked         0\n",
       "dtype: int64"
      ]
     },
     "execution_count": 61,
     "metadata": {},
     "output_type": "execute_result"
    }
   ],
   "source": [
    "nrows = len(testing_df.index)\n",
    "print(\"there are {} rows in testing database\".format(nrows))\n",
    "testing_df.count()-nrows  # this returns the number of missing observations in each column"
   ]
  },
  {
   "cell_type": "markdown",
   "metadata": {},
   "source": [
    "**Note**: since there are too many missing values in Cabin, we will ignore this variable.\n",
    "Also, it doesn't seem possible to reliably estimate the two missing Embarked values; as it's only two values, we will ignore both rows where Embarked is not available. \n",
    "The key question here is how to estimate Age."
   ]
  },
  {
   "cell_type": "code",
   "execution_count": 62,
   "metadata": {
    "collapsed": true
   },
   "outputs": [],
   "source": [
    "def preprocess_data(df):\n",
    "    \n",
    "    # estimate age from title\n",
    "    \n",
    "    same_as_mrs = [\"Mrs\",\"Mme\",\"the Countess\",\"Lady\",\"Dona\"]\n",
    "    same_as_mr = [\"Capt\",\"Col\",\"Don\",\"Mr\",\"Jonkheer\",\"Major\",\"Rev\",\"Sir\",\"Dr\"]\n",
    "    same_as_ms = [\"Ms\",\"Miss\",\"Mlle\"]\n",
    "    \n",
    "    tmp_df = df.copy()  # deep copy\n",
    "    \n",
    "    # create feature Title\n",
    "    tmp_df[\"Title\"]= df[\"Name\"].apply(lambda _: _.split(\",\")[1].split(\".\")[0].strip()).astype(str)\n",
    "    \n",
    "    aver_age_miss = round(tmp_df[~tmp_df[\"Age\"].isnull()  & (tmp_df[\"Title\"].str.strip().isin(same_as_ms))][\"Age\"].mean(),1)\n",
    "    aver_age_mrs = round(tmp_df[~tmp_df[\"Age\"].isnull()  & (tmp_df[\"Title\"].str.strip().isin(same_as_mrs))][\"Age\"].mean(),1)\n",
    "    aver_age_mr = round(tmp_df[~tmp_df[\"Age\"].isnull()  & (tmp_df[\"Title\"].str.strip().isin(same_as_mr))][\"Age\"].mean(),1)\n",
    "    \n",
    "    if np.sum(tmp_df[\"Title\"].str.strip().isin([\"Master\"])) > 0:\n",
    "        \n",
    "        aver_age_master = round(tmp_df[~tmp_df[\"Age\"].isnull()  & (tmp_df[\"Title\"].str.strip().isin([\"Master\"]))][\"Age\"].mean(),1)\n",
    "        master_idx = tmp_df[\"Title\"].str.strip().isin([\"Master\"])\n",
    "        tmp_df.loc[master_idx, \"Age\"] = tmp_df.loc[master_idx, \"Age\"].fillna(aver_age_master)\n",
    "    \n",
    "    miss_idx = tmp_df[\"Title\"].str.strip().isin(same_as_ms)\n",
    "    mr_idx = tmp_df[\"Title\"].str.strip().isin(same_as_mr)\n",
    "    mrs_idx = tmp_df[\"Title\"].str.strip().isin(same_as_mrs)\n",
    "    \n",
    "    tmp_df.loc[miss_idx, \"Age\"] = tmp_df.loc[miss_idx, \"Age\"].fillna(aver_age_miss)\n",
    "    tmp_df.loc[mr_idx,\"Age\"] = tmp_df.loc[mr_idx,\"Age\"].fillna(aver_age_mr)\n",
    "    tmp_df.loc[mrs_idx,\"Age\"] = tmp_df.loc[mrs_idx,\"Age\"].fillna(aver_age_mrs)\n",
    "    \n",
    "    tmp_df = tmp_df.drop([\"Title\",\"Cabin\",\"PassengerId\",\"Name\",\"Ticket\"],axis=1)\n",
    "    \n",
    "    # if Fare is absent, estimate as the mean fare\n",
    "    nofare_idx = tmp_df[\"Fare\"].isnull()\n",
    "    mean_fare = round(tmp_df.loc[~nofare_idx][\"Fare\"].mean(),2)\n",
    "    print(\"estimating the missing fare as the mean fare {}\".format(mean_fare))\n",
    "    \n",
    "    tmp_df.loc[nofare_idx,\"Fare\"] = tmp_df.loc[nofare_idx,\"Fare\"].fillna(mean_fare)\n",
    "    \n",
    "    # ignore rows with absent Embarked\n",
    "    tmp_df = tmp_df.drop(tmp_df.index[tmp_df[\"Embarked\"].isnull()])\n",
    "    \n",
    "    # normalize Age, SibSp,Parch and Fare\n",
    "    from sklearn.preprocessing import StandardScaler\n",
    "    stdsc = StandardScaler()\n",
    "    tmp_df[[\"Fare\"]] = stdsc.fit_transform(tmp_df[[\"Fare\"]])\n",
    "    \n",
    "    # encode categorical features \"Sex\" and \"Embarked\" into integers:\n",
    "    le_sex = LabelEncoder()\n",
    "    tmp_df[\"Sex_Int\"] = le_sex.fit_transform(tmp_df[\"Sex\"])\n",
    "    le_emb = LabelEncoder()\n",
    "    tmp_df[\"Emb_Int\"] = le_emb.fit_transform(tmp_df[\"Embarked\"])\n",
    "    # drop Sex and Embarked to avoid problems with OHE\n",
    "    tmp_df = tmp_df.drop([\"Sex\",\"Embarked\"],1)\n",
    "    \n",
    "    print(tmp_df.head())\n",
    "    \n",
    "    tmp_df = tmp_df.join(pd.get_dummies(tmp_df[\"Pclass\"],prefix=\"pcl\"))\n",
    "    tmp_df = tmp_df.join(pd.get_dummies(tmp_df[\"Sex_Int\"],prefix=\"sex\"))\n",
    "    # tmp_df = tmp_df.join(pd.get_dummies(tmp_df[\"Emb_Int\"],prefix=\"emb\"))\n",
    "    \n",
    "    tmp_df[\"Relatives\"] = tmp_df[\"SibSp\"]+tmp_df[\"Parch\"]\n",
    "    tmp_df = tmp_df.drop([\"Sex_Int\",\"Emb_Int\",\"Pclass\"],1)\n",
    "    \n",
    "    return tmp_df"
   ]
  },
  {
   "cell_type": "code",
   "execution_count": 63,
   "metadata": {
    "collapsed": false
   },
   "outputs": [
    {
     "name": "stdout",
     "output_type": "stream",
     "text": [
      "estimating the missing fare as the mean fare 32.2\n",
      "   Survived  Pclass   Age  SibSp  Parch      Fare  Sex_Int  Emb_Int\n",
      "0         0       3  22.0      1      0 -0.500240        1        2\n",
      "1         1       1  38.0      1      0  0.788947        0        0\n",
      "2         1       3  26.0      0      0 -0.486650        0        2\n",
      "3         1       1  35.0      1      0  0.422861        0        2\n",
      "4         0       3  35.0      0      0 -0.484133        1        2\n",
      "processed training dataset has 889 rows\n"
     ]
    },
    {
     "data": {
      "text/html": [
       "<div>\n",
       "<table border=\"1\" class=\"dataframe\">\n",
       "  <thead>\n",
       "    <tr style=\"text-align: right;\">\n",
       "      <th></th>\n",
       "      <th>Survived</th>\n",
       "      <th>Age</th>\n",
       "      <th>SibSp</th>\n",
       "      <th>Parch</th>\n",
       "      <th>Fare</th>\n",
       "      <th>pcl_1</th>\n",
       "      <th>pcl_2</th>\n",
       "      <th>pcl_3</th>\n",
       "      <th>sex_0</th>\n",
       "      <th>sex_1</th>\n",
       "      <th>Relatives</th>\n",
       "    </tr>\n",
       "  </thead>\n",
       "  <tbody>\n",
       "    <tr>\n",
       "      <th>0</th>\n",
       "      <td>0</td>\n",
       "      <td>22.0</td>\n",
       "      <td>1</td>\n",
       "      <td>0</td>\n",
       "      <td>-0.500240</td>\n",
       "      <td>0</td>\n",
       "      <td>0</td>\n",
       "      <td>1</td>\n",
       "      <td>0</td>\n",
       "      <td>1</td>\n",
       "      <td>1</td>\n",
       "    </tr>\n",
       "    <tr>\n",
       "      <th>1</th>\n",
       "      <td>1</td>\n",
       "      <td>38.0</td>\n",
       "      <td>1</td>\n",
       "      <td>0</td>\n",
       "      <td>0.788947</td>\n",
       "      <td>1</td>\n",
       "      <td>0</td>\n",
       "      <td>0</td>\n",
       "      <td>1</td>\n",
       "      <td>0</td>\n",
       "      <td>1</td>\n",
       "    </tr>\n",
       "    <tr>\n",
       "      <th>2</th>\n",
       "      <td>1</td>\n",
       "      <td>26.0</td>\n",
       "      <td>0</td>\n",
       "      <td>0</td>\n",
       "      <td>-0.486650</td>\n",
       "      <td>0</td>\n",
       "      <td>0</td>\n",
       "      <td>1</td>\n",
       "      <td>1</td>\n",
       "      <td>0</td>\n",
       "      <td>0</td>\n",
       "    </tr>\n",
       "    <tr>\n",
       "      <th>3</th>\n",
       "      <td>1</td>\n",
       "      <td>35.0</td>\n",
       "      <td>1</td>\n",
       "      <td>0</td>\n",
       "      <td>0.422861</td>\n",
       "      <td>1</td>\n",
       "      <td>0</td>\n",
       "      <td>0</td>\n",
       "      <td>1</td>\n",
       "      <td>0</td>\n",
       "      <td>1</td>\n",
       "    </tr>\n",
       "    <tr>\n",
       "      <th>4</th>\n",
       "      <td>0</td>\n",
       "      <td>35.0</td>\n",
       "      <td>0</td>\n",
       "      <td>0</td>\n",
       "      <td>-0.484133</td>\n",
       "      <td>0</td>\n",
       "      <td>0</td>\n",
       "      <td>1</td>\n",
       "      <td>0</td>\n",
       "      <td>1</td>\n",
       "      <td>0</td>\n",
       "    </tr>\n",
       "  </tbody>\n",
       "</table>\n",
       "</div>"
      ],
      "text/plain": [
       "   Survived   Age  SibSp  Parch      Fare  pcl_1  pcl_2  pcl_3  sex_0  sex_1  \\\n",
       "0         0  22.0      1      0 -0.500240      0      0      1      0      1   \n",
       "1         1  38.0      1      0  0.788947      1      0      0      1      0   \n",
       "2         1  26.0      0      0 -0.486650      0      0      1      1      0   \n",
       "3         1  35.0      1      0  0.422861      1      0      0      1      0   \n",
       "4         0  35.0      0      0 -0.484133      0      0      1      0      1   \n",
       "\n",
       "   Relatives  \n",
       "0          1  \n",
       "1          1  \n",
       "2          0  \n",
       "3          1  \n",
       "4          0  "
      ]
     },
     "execution_count": 63,
     "metadata": {},
     "output_type": "execute_result"
    }
   ],
   "source": [
    "training_processed = preprocess_data(training_df)\n",
    "print(\"processed training dataset has {} rows\".format(len(training_processed.index)))\n",
    "training_processed.head()\n"
   ]
  },
  {
   "cell_type": "markdown",
   "metadata": {},
   "source": [
    "## Prediction"
   ]
  },
  {
   "cell_type": "markdown",
   "metadata": {},
   "source": [
    "Split training data into the training and testing datasets. We will not be using **Title** and **Deck** for prediction."
   ]
  },
  {
   "cell_type": "code",
   "execution_count": 66,
   "metadata": {
    "collapsed": false
   },
   "outputs": [
    {
     "data": {
      "text/html": [
       "<div>\n",
       "<table border=\"1\" class=\"dataframe\">\n",
       "  <thead>\n",
       "    <tr style=\"text-align: right;\">\n",
       "      <th></th>\n",
       "      <th>Age</th>\n",
       "      <th>Fare</th>\n",
       "      <th>pcl_1</th>\n",
       "      <th>pcl_2</th>\n",
       "      <th>pcl_3</th>\n",
       "      <th>sex_0</th>\n",
       "      <th>sex_1</th>\n",
       "      <th>Relatives</th>\n",
       "    </tr>\n",
       "  </thead>\n",
       "  <tbody>\n",
       "    <tr>\n",
       "      <th>275</th>\n",
       "      <td>63.0</td>\n",
       "      <td>0.923335</td>\n",
       "      <td>1</td>\n",
       "      <td>0</td>\n",
       "      <td>0</td>\n",
       "      <td>1</td>\n",
       "      <td>0</td>\n",
       "      <td>1</td>\n",
       "    </tr>\n",
       "    <tr>\n",
       "      <th>300</th>\n",
       "      <td>21.8</td>\n",
       "      <td>-0.490173</td>\n",
       "      <td>0</td>\n",
       "      <td>0</td>\n",
       "      <td>1</td>\n",
       "      <td>1</td>\n",
       "      <td>0</td>\n",
       "      <td>0</td>\n",
       "    </tr>\n",
       "    <tr>\n",
       "      <th>25</th>\n",
       "      <td>38.0</td>\n",
       "      <td>-0.014278</td>\n",
       "      <td>0</td>\n",
       "      <td>0</td>\n",
       "      <td>1</td>\n",
       "      <td>1</td>\n",
       "      <td>0</td>\n",
       "      <td>6</td>\n",
       "    </tr>\n",
       "    <tr>\n",
       "      <th>394</th>\n",
       "      <td>24.0</td>\n",
       "      <td>-0.309982</td>\n",
       "      <td>0</td>\n",
       "      <td>0</td>\n",
       "      <td>1</td>\n",
       "      <td>1</td>\n",
       "      <td>0</td>\n",
       "      <td>2</td>\n",
       "    </tr>\n",
       "    <tr>\n",
       "      <th>498</th>\n",
       "      <td>25.0</td>\n",
       "      <td>2.404961</td>\n",
       "      <td>1</td>\n",
       "      <td>0</td>\n",
       "      <td>0</td>\n",
       "      <td>1</td>\n",
       "      <td>0</td>\n",
       "      <td>3</td>\n",
       "    </tr>\n",
       "  </tbody>\n",
       "</table>\n",
       "</div>"
      ],
      "text/plain": [
       "      Age      Fare  pcl_1  pcl_2  pcl_3  sex_0  sex_1  Relatives\n",
       "275  63.0  0.923335      1      0      0      1      0          1\n",
       "300  21.8 -0.490173      0      0      1      1      0          0\n",
       "25   38.0 -0.014278      0      0      1      1      0          6\n",
       "394  24.0 -0.309982      0      0      1      1      0          2\n",
       "498  25.0  2.404961      1      0      0      1      0          3"
      ]
     },
     "execution_count": 66,
     "metadata": {},
     "output_type": "execute_result"
    }
   ],
   "source": [
    "X = training_processed.iloc[:,[1,4,5,6,7,8,9,10]]  # variables\n",
    "y = training_processed.iloc[:,0]   # outcome\n",
    "\n",
    "X_train, X_test, y_train, y_test = train_test_split(X, y, test_size=0.05, random_state=11)\n",
    "\n",
    "X_train.head()"
   ]
  },
  {
   "cell_type": "markdown",
   "metadata": {},
   "source": [
    "### Logictic Regression"
   ]
  },
  {
   "cell_type": "code",
   "execution_count": 67,
   "metadata": {
    "collapsed": false
   },
   "outputs": [
    {
     "name": "stdout",
     "output_type": "stream",
     "text": [
      "Training accuracy: 0.803317535545\n",
      "Testing accuracy: 0.866666666667\n"
     ]
    }
   ],
   "source": [
    "lr_parameters = {'penalty':['l2','l1'],'C':np.arange(0.01,1.0,0.01).tolist()}\n",
    "lr = LogisticRegression()\n",
    "lrc = GridSearchCV(lr, lr_parameters)\n",
    "lrc.fit(X_train, y_train)\n",
    "print('Training accuracy:', lrc.score(X_train, y_train))\n",
    "print('Testing accuracy:', lrc.score(X_test, y_test))"
   ]
  },
  {
   "cell_type": "markdown",
   "metadata": {},
   "source": [
    "### AdaBoost"
   ]
  },
  {
   "cell_type": "code",
   "execution_count": 70,
   "metadata": {
    "collapsed": false
   },
   "outputs": [
    {
     "name": "stdout",
     "output_type": "stream",
     "text": [
      "0.888888888889\n"
     ]
    }
   ],
   "source": [
    "ab = AdaBoostClassifier(n_estimators=100)\n",
    "scores = cross_val_score(ab, X_train, y_train)\n",
    "scores.mean()\n",
    "ab.fit(X_train, y_train)\n",
    "print(accuracy_score(y_test, ab.predict(X_test)))"
   ]
  },
  {
   "cell_type": "markdown",
   "metadata": {},
   "source": [
    "### Decision Tree"
   ]
  },
  {
   "cell_type": "code",
   "execution_count": 69,
   "metadata": {
    "collapsed": false
   },
   "outputs": [
    {
     "name": "stdout",
     "output_type": "stream",
     "text": [
      "0.888888888889\n"
     ]
    }
   ],
   "source": [
    "dt_parameters = {'min_samples_leaf': np.arange(0.025,0.5,0.025).tolist()}\n",
    "clf = tree.DecisionTreeClassifier(splitter=\"random\")\n",
    "dtc = GridSearchCV(clf, dt_parameters)\n",
    "dtc.fit(X_train, y_train)\n",
    "print(accuracy_score(y_test, dtc.predict(X_test)))"
   ]
  },
  {
   "cell_type": "markdown",
   "metadata": {},
   "source": [
    "### Naive Bayes"
   ]
  },
  {
   "cell_type": "code",
   "execution_count": 33,
   "metadata": {
    "collapsed": false
   },
   "outputs": [
    {
     "name": "stdout",
     "output_type": "stream",
     "text": [
      "0.808988764045\n"
     ]
    }
   ],
   "source": [
    "nbc = GaussianNB()\n",
    "nbc.fit(X_train, y_train)\n",
    "print(accuracy_score(y_test, nbc.predict(X_test)))"
   ]
  },
  {
   "cell_type": "markdown",
   "metadata": {},
   "source": [
    "### RandomForests"
   ]
  },
  {
   "cell_type": "code",
   "execution_count": 34,
   "metadata": {
    "collapsed": false
   },
   "outputs": [
    {
     "data": {
      "text/plain": [
       "GridSearchCV(cv=None, error_score='raise',\n",
       "       estimator=RandomForestClassifier(bootstrap=True, class_weight=None, criterion='gini',\n",
       "            max_depth=None, max_features='sqrt', max_leaf_nodes=None,\n",
       "            min_impurity_split=1e-07, min_samples_leaf=1,\n",
       "            min_samples_split=2, min_weight_fraction_leaf=0.0,\n",
       "            n_estimators=10, n_jobs=1, oob_score=False, random_state=None,\n",
       "            verbose=0, warm_start=False),\n",
       "       fit_params={}, iid=True, n_jobs=1,\n",
       "       param_grid={'n_estimators': [4, 5, 6, 7, 8, 9, 10, 11, 12, 13, 14, 15, 16, 17, 18, 19, 20, 21, 22, 23, 24, 25, 26, 27, 28, 29, 30, 31, 32, 33, 34, 35, 36, 37, 38, 39, 40, 41, 42, 43, 44, 45, 46, 47, 48, 49], 'min_weight_fraction_leaf': [0.01, 0.035, 0.060000000000000005, 0.085, 0.11, 0.135, 0.160000...5, 0.36000000000000004, 0.385, 0.41000000000000003, 0.43500000000000005, 0.46, 0.48500000000000004]},\n",
       "       pre_dispatch='2*n_jobs', refit=True, return_train_score=True,\n",
       "       scoring=None, verbose=0)"
      ]
     },
     "execution_count": 34,
     "metadata": {},
     "output_type": "execute_result"
    }
   ],
   "source": [
    "rf_parameters = {'n_estimators': np.arange(4,50,1).tolist(),'min_weight_fraction_leaf':np.arange(0.01,0.5,0.025).tolist()}\n",
    "rf = RandomForestClassifier(max_features='sqrt')\n",
    "rfc = GridSearchCV(rf, rf_parameters)\n",
    "rfc.fit(X_train, y_train)"
   ]
  },
  {
   "cell_type": "code",
   "execution_count": 35,
   "metadata": {
    "collapsed": false
   },
   "outputs": [
    {
     "name": "stdout",
     "output_type": "stream",
     "text": [
      "{'n_estimators': 29, 'min_weight_fraction_leaf': 0.01}\n"
     ]
    }
   ],
   "source": [
    "print(rfc.best_params_)"
   ]
  },
  {
   "cell_type": "code",
   "execution_count": 38,
   "metadata": {
    "collapsed": false
   },
   "outputs": [
    {
     "name": "stdout",
     "output_type": "stream",
     "text": [
      "0.831460674157\n",
      "[ 0.16832119  0.18764641  0.03845271  0.01695196  0.09679857  0.18432811\n",
      "  0.21627061  0.09123044]\n"
     ]
    }
   ],
   "source": [
    "best_rf = rfc.best_estimator_\n",
    "best_rf.fit(X_train, y_train)\n",
    "print(accuracy_score(y_test, best_rf.predict(X_test)))\n",
    "print(best_rf.feature_importances_)"
   ]
  },
  {
   "cell_type": "markdown",
   "metadata": {},
   "source": [
    "## Extra Trees"
   ]
  },
  {
   "cell_type": "code",
   "execution_count": 80,
   "metadata": {
    "collapsed": false
   },
   "outputs": [
    {
     "name": "stdout",
     "output_type": "stream",
     "text": [
      "0.831460674157\n"
     ]
    }
   ],
   "source": [
    "xt_parameters = {\"n_estimators\":np.arange(1,50,1).tolist(), \"min_samples_split\":np.arange(1,20,1).tolist() }\n",
    "xt = ExtraTreesClassifier(max_depth=None, random_state=0)\n",
    "xtc = GridSearchCV(xt, xt_parameters)\n",
    "xtc.fit(X_train, y_train)\n",
    "print(accuracy_score(y_test, xtc.predict(X_test)))"
   ]
  },
  {
   "cell_type": "code",
   "execution_count": 81,
   "metadata": {
    "collapsed": false
   },
   "outputs": [
    {
     "data": {
      "text/plain": [
       "ExtraTreesClassifier(bootstrap=False, class_weight=None, criterion='gini',\n",
       "           max_depth=None, max_features='auto', max_leaf_nodes=None,\n",
       "           min_impurity_split=1e-07, min_samples_leaf=1,\n",
       "           min_samples_split=14, min_weight_fraction_leaf=0.0,\n",
       "           n_estimators=14, n_jobs=1, oob_score=False, random_state=0,\n",
       "           verbose=0, warm_start=False)"
      ]
     },
     "execution_count": 81,
     "metadata": {},
     "output_type": "execute_result"
    }
   ],
   "source": [
    "xtc.best_estimator_"
   ]
  },
  {
   "cell_type": "code",
   "execution_count": 71,
   "metadata": {
    "collapsed": false
   },
   "outputs": [
    {
     "name": "stdout",
     "output_type": "stream",
     "text": [
      "estimating the missing fare as the mean fare 35.63\n",
      "   Pclass   Age  SibSp  Parch      Fare  Sex_Int  Emb_Int\n",
      "0       3  34.5      0      0 -0.498407        1        1\n",
      "1       3  47.0      1      0 -0.513274        0        2\n",
      "2       2  62.0      0      0 -0.465089        1        1\n",
      "3       3  27.0      0      0 -0.483466        1        2\n",
      "4       3  22.0      1      1 -0.418472        0        2\n"
     ]
    }
   ],
   "source": [
    "testing_df_processed = preprocess_data(testing_df)\n",
    "testing_df_processed.head()\n",
    "Y_pred = ab.predict(testing_df_processed[[0,3,4,5,6,7,8,9]])  # note we use the RandomForests model here\n",
    "#print(\"predicted {} survival outcomes\".format(len(Y_pred)))"
   ]
  },
  {
   "cell_type": "markdown",
   "metadata": {},
   "source": [
    "Format precistions for submission. Recall that we have to submit a .csv with 2 columns, PassengerID and Survived."
   ]
  },
  {
   "cell_type": "code",
   "execution_count": 72,
   "metadata": {
    "collapsed": false
   },
   "outputs": [],
   "source": [
    "submission_df = pd.DataFrame(columns=[\"PassengerId\",\"Survived\"])\n",
    "submission_df[\"PassengerId\"] = testing_df[\"PassengerId\"]\n",
    "submission_df[\"Survived\"] = Y_pred\n",
    "submission_df.head()\n",
    "\n",
    "# save this data frame to a .csv file\n",
    "submission_df.to_csv(\"titanic_submission.csv\",index=False)"
   ]
  },
  {
   "cell_type": "markdown",
   "metadata": {},
   "source": [
    "This looks right. Next step - submit :)"
   ]
  },
  {
   "cell_type": "code",
   "execution_count": null,
   "metadata": {
    "collapsed": true
   },
   "outputs": [],
   "source": []
  }
 ],
 "metadata": {
  "kernelspec": {
   "display_name": "Python 3",
   "language": "python",
   "name": "python3"
  },
  "language_info": {
   "codemirror_mode": {
    "name": "ipython",
    "version": 3
   },
   "file_extension": ".py",
   "mimetype": "text/x-python",
   "name": "python",
   "nbconvert_exporter": "python",
   "pygments_lexer": "ipython3",
   "version": "3.5.2"
  }
 },
 "nbformat": 4,
 "nbformat_minor": 0
}
